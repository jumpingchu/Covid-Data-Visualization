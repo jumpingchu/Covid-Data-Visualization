{
 "cells": [
  {
   "cell_type": "code",
   "execution_count": 1,
   "metadata": {},
   "outputs": [],
   "source": [
    "from datetime import datetime\n",
    "from pathlib import Path\n",
    "\n",
    "import datefinder\n",
    "import pandas as pd"
   ]
  },
  {
   "cell_type": "code",
   "execution_count": 2,
   "metadata": {},
   "outputs": [
    {
     "data": {
      "text/plain": [
       "1025"
      ]
     },
     "execution_count": 2,
     "metadata": {},
     "output_type": "execute_result"
    }
   ],
   "source": [
    "data_dir = Path('data/.')\n",
    "data_list = [f for f in data_dir.glob('*.csv')]\n",
    "len(data_list)"
   ]
  },
  {
   "cell_type": "code",
   "execution_count": 3,
   "metadata": {},
   "outputs": [],
   "source": [
    "def parse_date(data_path) -> str:\n",
    "    date_time = [t for t in datefinder.find_dates(str(data_path))]\n",
    "    date_str = datetime.strftime(date_time[0], '%Y%m%d')\n",
    "    return date_str"
   ]
  },
  {
   "cell_type": "code",
   "execution_count": 4,
   "metadata": {},
   "outputs": [
    {
     "name": "stdout",
     "output_type": "stream",
     "text": [
      "20200122 20221111\n"
     ]
    }
   ],
   "source": [
    "# test for date string sort: OK\n",
    "date_sorted = sorted([parse_date(dt) for dt in data_list])\n",
    "print(min(date_sorted), max(date_sorted))"
   ]
  },
  {
   "cell_type": "code",
   "execution_count": 5,
   "metadata": {},
   "outputs": [],
   "source": [
    "def extract_data_from_path(data_path):\n",
    "    date_str = parse_date(data_path)\n",
    "    df = pd.read_csv(data_path)\n",
    "\n",
    "    if 'Country_Region' not in df.columns:\n",
    "        df.rename(columns={'Country/Region': 'Country_Region'}, inplace=True)\n",
    "\n",
    "    df.loc[df['Country_Region'] == 'Mainland China', 'Country_Region'] = 'China'\n",
    "    df.loc[df['Country_Region'] == 'Korea, South', 'Country_Region'] = 'South Korea'\n",
    "    df.loc[df['Country_Region'] == 'Taiwan*', 'Country_Region'] = 'Taiwan'\n",
    "    \n",
    "    df = (df\n",
    "        .loc[:, ['Country_Region', 'Confirmed']]\n",
    "        .rename(columns={'Confirmed': date_str})\n",
    "        .groupby('Country_Region', as_index=False).sum(date_str)\n",
    "    )\n",
    "    return df"
   ]
  },
  {
   "cell_type": "code",
   "execution_count": 6,
   "metadata": {},
   "outputs": [],
   "source": [
    "df_20220121 = extract_data_from_path(data_list[0])\n",
    "df_20200226 = extract_data_from_path(data_list[1])"
   ]
  },
  {
   "cell_type": "code",
   "execution_count": 7,
   "metadata": {},
   "outputs": [
    {
     "data": {
      "text/html": [
       "<div>\n",
       "<style scoped>\n",
       "    .dataframe tbody tr th:only-of-type {\n",
       "        vertical-align: middle;\n",
       "    }\n",
       "\n",
       "    .dataframe tbody tr th {\n",
       "        vertical-align: top;\n",
       "    }\n",
       "\n",
       "    .dataframe thead th {\n",
       "        text-align: right;\n",
       "    }\n",
       "</style>\n",
       "<table border=\"1\" class=\"dataframe\">\n",
       "  <thead>\n",
       "    <tr style=\"text-align: right;\">\n",
       "      <th></th>\n",
       "      <th>Country_Region</th>\n",
       "      <th>20220121</th>\n",
       "      <th>20200226</th>\n",
       "    </tr>\n",
       "  </thead>\n",
       "  <tbody>\n",
       "    <tr>\n",
       "      <th>37</th>\n",
       "      <td>China</td>\n",
       "      <td>132264.0</td>\n",
       "      <td>78065.0</td>\n",
       "    </tr>\n",
       "    <tr>\n",
       "      <th>165</th>\n",
       "      <td>South Korea</td>\n",
       "      <td>726274.0</td>\n",
       "      <td>1261.0</td>\n",
       "    </tr>\n",
       "    <tr>\n",
       "      <th>203</th>\n",
       "      <td>Others</td>\n",
       "      <td>0.0</td>\n",
       "      <td>705.0</td>\n",
       "    </tr>\n",
       "    <tr>\n",
       "      <th>86</th>\n",
       "      <td>Italy</td>\n",
       "      <td>9603856.0</td>\n",
       "      <td>453.0</td>\n",
       "    </tr>\n",
       "    <tr>\n",
       "      <th>88</th>\n",
       "      <td>Japan</td>\n",
       "      <td>2075528.0</td>\n",
       "      <td>189.0</td>\n",
       "    </tr>\n",
       "    <tr>\n",
       "      <th>...</th>\n",
       "      <td>...</td>\n",
       "      <td>...</td>\n",
       "      <td>...</td>\n",
       "    </tr>\n",
       "    <tr>\n",
       "      <th>91</th>\n",
       "      <td>Kenya</td>\n",
       "      <td>319838.0</td>\n",
       "      <td>0.0</td>\n",
       "    </tr>\n",
       "    <tr>\n",
       "      <th>92</th>\n",
       "      <td>Kiribati</td>\n",
       "      <td>39.0</td>\n",
       "      <td>0.0</td>\n",
       "    </tr>\n",
       "    <tr>\n",
       "      <th>93</th>\n",
       "      <td>Korea, North</td>\n",
       "      <td>0.0</td>\n",
       "      <td>0.0</td>\n",
       "    </tr>\n",
       "    <tr>\n",
       "      <th>94</th>\n",
       "      <td>Kosovo</td>\n",
       "      <td>175283.0</td>\n",
       "      <td>0.0</td>\n",
       "    </tr>\n",
       "    <tr>\n",
       "      <th>102</th>\n",
       "      <td>Libya</td>\n",
       "      <td>403144.0</td>\n",
       "      <td>0.0</td>\n",
       "    </tr>\n",
       "  </tbody>\n",
       "</table>\n",
       "<p>204 rows × 3 columns</p>\n",
       "</div>"
      ],
      "text/plain": [
       "    Country_Region   20220121  20200226\n",
       "37           China   132264.0   78065.0\n",
       "165    South Korea   726274.0    1261.0\n",
       "203         Others        0.0     705.0\n",
       "86           Italy  9603856.0     453.0\n",
       "88           Japan  2075528.0     189.0\n",
       "..             ...        ...       ...\n",
       "91           Kenya   319838.0       0.0\n",
       "92        Kiribati       39.0       0.0\n",
       "93    Korea, North        0.0       0.0\n",
       "94          Kosovo   175283.0       0.0\n",
       "102          Libya   403144.0       0.0\n",
       "\n",
       "[204 rows x 3 columns]"
      ]
     },
     "execution_count": 7,
     "metadata": {},
     "output_type": "execute_result"
    }
   ],
   "source": [
    "df = pd.merge(df_20220121, df_20200226, on='Country_Region', how='outer')\n",
    "df = (df\n",
    "    .fillna(0)\n",
    "    .sort_values('20200226', ascending=False)\n",
    ")\n",
    "df"
   ]
  },
  {
   "cell_type": "code",
   "execution_count": null,
   "metadata": {},
   "outputs": [],
   "source": []
  }
 ],
 "metadata": {
  "kernelspec": {
   "display_name": "Python 3",
   "language": "python",
   "name": "python3"
  },
  "language_info": {
   "codemirror_mode": {
    "name": "ipython",
    "version": 3
   },
   "file_extension": ".py",
   "mimetype": "text/x-python",
   "name": "python",
   "nbconvert_exporter": "python",
   "pygments_lexer": "ipython3",
   "version": "3.9.5"
  },
  "orig_nbformat": 4,
  "vscode": {
   "interpreter": {
    "hash": "397704579725e15f5c7cb49fe5f0341eb7531c82d19f2c29d197e8b64ab5776b"
   }
  }
 },
 "nbformat": 4,
 "nbformat_minor": 2
}
